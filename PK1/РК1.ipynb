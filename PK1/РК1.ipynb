{
 "cells": [
  {
   "cell_type": "markdown",
   "id": "prime-perception",
   "metadata": {},
   "source": [
    "Рубежный контроль №1"
   ]
  },
  {
   "cell_type": "markdown",
   "id": "hired-accountability",
   "metadata": {},
   "source": [
    "Абросимова Надежда, ИУ5-24М"
   ]
  },
  {
   "cell_type": "markdown",
   "id": "intellectual-bundle",
   "metadata": {},
   "source": [
    "Вариант №1"
   ]
  },
  {
   "cell_type": "markdown",
   "id": "continental-mileage",
   "metadata": {},
   "source": [
    "Задача №1.\n",
    "Для набора данных проведите кодирование одного (произвольного) категориального признака с использованием метода \"count (frequency) encoding\"."
   ]
  },
  {
   "cell_type": "markdown",
   "id": "allied-console",
   "metadata": {},
   "source": [
    "Задача №21.\n",
    "Для набора данных проведите масштабирование данных для одного (произвольного) числового признака с использованием масштабирования по медиане."
   ]
  },
  {
   "cell_type": "markdown",
   "id": "offensive-today",
   "metadata": {},
   "source": [
    "Для произвольной колонки данных построить график \"Скрипичная диаграмма (violin plot)\"."
   ]
  },
  {
   "cell_type": "code",
   "execution_count": 1,
   "id": "qualified-sperm",
   "metadata": {},
   "outputs": [],
   "source": [
    "import numpy as np\n",
    "import pandas as pd\n",
    "import seaborn as sns \n",
    "import matplotlib.pyplot as plt"
   ]
  },
  {
   "cell_type": "code",
   "execution_count": 2,
   "id": "leading-exchange",
   "metadata": {},
   "outputs": [],
   "source": [
    "data=pd.read_csv('oec.csv', sep=\",\")"
   ]
  },
  {
   "cell_type": "code",
   "execution_count": 3,
   "id": "generous-probe",
   "metadata": {},
   "outputs": [
    {
     "data": {
      "text/plain": [
       "PlanetIdentifier         object\n",
       "TypeFlag                  int64\n",
       "PlanetaryMassJpt        float64\n",
       "RadiusJpt               float64\n",
       "PeriodDays              float64\n",
       "SemiMajorAxisAU         float64\n",
       "Eccentricity            float64\n",
       "PeriastronDeg           float64\n",
       "LongitudeDeg            float64\n",
       "AscendingNodeDeg        float64\n",
       "InclinationDeg          float64\n",
       "SurfaceTempK            float64\n",
       "AgeGyr                  float64\n",
       "DiscoveryMethod          object\n",
       "DiscoveryYear           float64\n",
       "LastUpdated              object\n",
       "RightAscension           object\n",
       "Declination              object\n",
       "DistFromSunParsec       float64\n",
       "HostStarMassSlrMass     float64\n",
       "HostStarRadiusSlrRad    float64\n",
       "HostStarMetallicity     float64\n",
       "HostStarTempK           float64\n",
       "HostStarAgeGyr          float64\n",
       "ListsPlanetIsOn          object\n",
       "dtype: object"
      ]
     },
     "execution_count": 3,
     "metadata": {},
     "output_type": "execute_result"
    }
   ],
   "source": [
    "data.dtypes"
   ]
  },
  {
   "cell_type": "code",
   "execution_count": 4,
   "id": "weekly-upset",
   "metadata": {},
   "outputs": [
    {
     "name": "stderr",
     "output_type": "stream",
     "text": [
      "c:\\users\\надя\\appdata\\local\\programs\\python\\python37\\lib\\site-packages\\seaborn\\_decorators.py:43: FutureWarning: Pass the following variables as keyword args: x, y. From version 0.12, the only valid positional argument will be `data`, and passing other arguments without an explicit keyword will result in an error or misinterpretation.\n",
      "  FutureWarning\n"
     ]
    },
    {
     "data": {
      "text/plain": [
       "<AxesSubplot:xlabel='DiscoveryMethod', ylabel='DiscoveryYear'>"
      ]
     },
     "execution_count": 4,
     "metadata": {},
     "output_type": "execute_result"
    },
    {
     "data": {
      "image/png": "[encoded data removed]",
      "text/plain": [
       "<Figure size 720x360 with 1 Axes>"
      ]
     },
     "metadata": {
      "needs_background": "light"
     },
     "output_type": "display_data"
    }
   ],
   "source": [
    "plt.figure(figsize=(10,5))\n",
    "x=data['DiscoveryMethod']\n",
    "\n",
    "y=data['DiscoveryYear']\n",
    "\n",
    "sns.violinplot(x, y)"
   ]
  },
  {
   "cell_type": "code",
   "execution_count": 5,
   "id": "expanded-cable",
   "metadata": {},
   "outputs": [],
   "source": [
    "#Count encoding\n",
    "from category_encoders.count import CountEncoder as ce_CountEncoder"
   ]
  },
  {
   "cell_type": "code",
   "execution_count": 6,
   "id": "experimental-favor",
   "metadata": {},
   "outputs": [],
   "source": [
    "ce_CountEncoder1 = ce_CountEncoder()\n",
    "data['DiscoveryMethod'] = ce_CountEncoder1.fit_transform(data['DiscoveryMethod'])\n"
   ]
  },
  {
   "cell_type": "code",
   "execution_count": 7,
   "id": "automated-treat",
   "metadata": {},
   "outputs": [
    {
     "data": {
      "text/plain": [
       "array([ 692, 2712,   40,   63,   52,   25], dtype=int64)"
      ]
     },
     "execution_count": 7,
     "metadata": {},
     "output_type": "execute_result"
    }
   ],
   "source": [
    "data['DiscoveryMethod'].unique()"
   ]
  },
  {
   "cell_type": "code",
   "execution_count": 8,
   "id": "artificial-function",
   "metadata": {},
   "outputs": [],
   "source": [
    "from sklearn.preprocessing import RobustScaler"
   ]
  },
  {
   "cell_type": "code",
   "execution_count": 9,
   "id": "opposite-career",
   "metadata": {},
   "outputs": [],
   "source": [
    "sc1 = RobustScaler()\n",
    "sc1_data = sc1.fit_transform(data[['PlanetaryMassJpt', 'RadiusJpt']])"
   ]
  },
  {
   "cell_type": "code",
   "execution_count": 10,
   "id": "fluid-costs",
   "metadata": {},
   "outputs": [
    {
     "data": {
      "text/plain": [
       "<AxesSubplot:ylabel='Density'>"
      ]
     },
     "execution_count": 10,
     "metadata": {},
     "output_type": "execute_result"
    },
    {
     "data": {
      "image/png": "[encoded data removed]",
      "text/plain": [
       "<Figure size 432x288 with 1 Axes>"
      ]
     },
     "metadata": {
      "needs_background": "light"
     },
     "output_type": "display_data"
    }
   ],
   "source": [
    "sns.kdeplot(data=data[['PlanetaryMassJpt', 'RadiusJpt']])\n"
   ]
  },
  {
   "cell_type": "code",
   "execution_count": 11,
   "id": "moving-teddy",
   "metadata": {},
   "outputs": [
    {
     "data": {
      "text/plain": [
       "<AxesSubplot:ylabel='Density'>"
      ]
     },
     "execution_count": 11,
     "metadata": {},
     "output_type": "execute_result"
    },
    {
     "data": {
      "image/png": "[encoded data removed]",
      "text/plain": [
       "<Figure size 432x288 with 1 Axes>"
      ]
     },
     "metadata": {
      "needs_background": "light"
     },
     "output_type": "display_data"
    }
   ],
   "source": [
    "sns.kdeplot(data=sc1_data)"
   ]
  }
 ],
 "metadata": {
  "kernelspec": {
   "display_name": "Python 3",
   "language": "python",
   "name": "python3"
  },
  "language_info": {
   "codemirror_mode": {
    "name": "ipython",
    "version": 3
   },
   "file_extension": ".py",
   "mimetype": "text/x-python",
   "name": "python",
   "nbconvert_exporter": "python",
   "pygments_lexer": "ipython3",
   "version": "3.7.0"
  }
 },
 "nbformat": 4,
 "nbformat_minor": 5
}
